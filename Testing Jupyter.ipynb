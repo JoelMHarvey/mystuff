{
 "cells": [
  {
   "cell_type": "markdown",
   "metadata": {},
   "source": []
  },
  {
   "cell_type": "code",
   "execution_count": 2,
   "metadata": {},
   "outputs": [
    {
     "name": "stdout",
     "output_type": "stream",
     "text": [
      "Hello World\n"
     ]
    }
   ],
   "source": [
    "print ('Hello World')"
   ]
  },
  {
   "cell_type": "code",
   "execution_count": 8,
   "metadata": {},
   "outputs": [
    {
     "data": {
      "application/json": {
       "cell": {
        "!": "OSMagics",
        "HTML": "Other",
        "SVG": "Other",
        "bash": "Other",
        "capture": "ExecutionMagics",
        "debug": "ExecutionMagics",
        "file": "Other",
        "html": "DisplayMagics",
        "javascript": "DisplayMagics",
        "js": "DisplayMagics",
        "latex": "DisplayMagics",
        "markdown": "DisplayMagics",
        "perl": "Other",
        "prun": "ExecutionMagics",
        "pypy": "Other",
        "python": "Other",
        "python2": "Other",
        "python3": "Other",
        "ruby": "Other",
        "script": "ScriptMagics",
        "sh": "Other",
        "svg": "DisplayMagics",
        "sx": "OSMagics",
        "system": "OSMagics",
        "time": "ExecutionMagics",
        "timeit": "ExecutionMagics",
        "writefile": "OSMagics"
       },
       "line": {
        "alias": "OSMagics",
        "alias_magic": "BasicMagics",
        "autoawait": "AsyncMagics",
        "autocall": "AutoMagics",
        "automagic": "AutoMagics",
        "autosave": "KernelMagics",
        "bookmark": "OSMagics",
        "cat": "Other",
        "cd": "OSMagics",
        "clear": "KernelMagics",
        "colors": "BasicMagics",
        "conda": "PackagingMagics",
        "config": "ConfigMagics",
        "connect_info": "KernelMagics",
        "cp": "Other",
        "debug": "ExecutionMagics",
        "dhist": "OSMagics",
        "dirs": "OSMagics",
        "doctest_mode": "BasicMagics",
        "ed": "Other",
        "edit": "KernelMagics",
        "env": "OSMagics",
        "gui": "BasicMagics",
        "hist": "Other",
        "history": "HistoryMagics",
        "killbgscripts": "ScriptMagics",
        "ldir": "Other",
        "less": "KernelMagics",
        "lf": "Other",
        "lk": "Other",
        "ll": "Other",
        "load": "CodeMagics",
        "load_ext": "ExtensionMagics",
        "loadpy": "CodeMagics",
        "logoff": "LoggingMagics",
        "logon": "LoggingMagics",
        "logstart": "LoggingMagics",
        "logstate": "LoggingMagics",
        "logstop": "LoggingMagics",
        "ls": "Other",
        "lsmagic": "BasicMagics",
        "lx": "Other",
        "macro": "ExecutionMagics",
        "magic": "BasicMagics",
        "man": "KernelMagics",
        "matplotlib": "PylabMagics",
        "mkdir": "Other",
        "more": "KernelMagics",
        "mv": "Other",
        "notebook": "BasicMagics",
        "page": "BasicMagics",
        "pastebin": "CodeMagics",
        "pdb": "ExecutionMagics",
        "pdef": "NamespaceMagics",
        "pdoc": "NamespaceMagics",
        "pfile": "NamespaceMagics",
        "pinfo": "NamespaceMagics",
        "pinfo2": "NamespaceMagics",
        "pip": "PackagingMagics",
        "popd": "OSMagics",
        "pprint": "BasicMagics",
        "precision": "BasicMagics",
        "prun": "ExecutionMagics",
        "psearch": "NamespaceMagics",
        "psource": "NamespaceMagics",
        "pushd": "OSMagics",
        "pwd": "OSMagics",
        "pycat": "OSMagics",
        "pylab": "PylabMagics",
        "qtconsole": "KernelMagics",
        "quickref": "BasicMagics",
        "recall": "HistoryMagics",
        "rehashx": "OSMagics",
        "reload_ext": "ExtensionMagics",
        "rep": "Other",
        "rerun": "HistoryMagics",
        "reset": "NamespaceMagics",
        "reset_selective": "NamespaceMagics",
        "rm": "Other",
        "rmdir": "Other",
        "run": "ExecutionMagics",
        "save": "CodeMagics",
        "sc": "OSMagics",
        "set_env": "OSMagics",
        "store": "StoreMagics",
        "sx": "OSMagics",
        "system": "OSMagics",
        "tb": "ExecutionMagics",
        "time": "ExecutionMagics",
        "timeit": "ExecutionMagics",
        "unalias": "OSMagics",
        "unload_ext": "ExtensionMagics",
        "who": "NamespaceMagics",
        "who_ls": "NamespaceMagics",
        "whos": "NamespaceMagics",
        "xdel": "NamespaceMagics",
        "xmode": "BasicMagics"
       }
      },
      "text/plain": [
       "Available line magics:\n",
       "%alias  %alias_magic  %autoawait  %autocall  %automagic  %autosave  %bookmark  %cat  %cd  %clear  %colors  %conda  %config  %connect_info  %cp  %debug  %dhist  %dirs  %doctest_mode  %ed  %edit  %env  %gui  %hist  %history  %killbgscripts  %ldir  %less  %lf  %lk  %ll  %load  %load_ext  %loadpy  %logoff  %logon  %logstart  %logstate  %logstop  %ls  %lsmagic  %lx  %macro  %magic  %man  %matplotlib  %mkdir  %more  %mv  %notebook  %page  %pastebin  %pdb  %pdef  %pdoc  %pfile  %pinfo  %pinfo2  %pip  %popd  %pprint  %precision  %prun  %psearch  %psource  %pushd  %pwd  %pycat  %pylab  %qtconsole  %quickref  %recall  %rehashx  %reload_ext  %rep  %rerun  %reset  %reset_selective  %rm  %rmdir  %run  %save  %sc  %set_env  %store  %sx  %system  %tb  %time  %timeit  %unalias  %unload_ext  %who  %who_ls  %whos  %xdel  %xmode\n",
       "\n",
       "Available cell magics:\n",
       "%%!  %%HTML  %%SVG  %%bash  %%capture  %%debug  %%file  %%html  %%javascript  %%js  %%latex  %%markdown  %%perl  %%prun  %%pypy  %%python  %%python2  %%python3  %%ruby  %%script  %%sh  %%svg  %%sx  %%system  %%time  %%timeit  %%writefile\n",
       "\n",
       "Automagic is ON, % prefix IS NOT needed for line magics."
      ]
     },
     "execution_count": 8,
     "metadata": {},
     "output_type": "execute_result"
    }
   ],
   "source": [
    "%lsmagic"
   ]
  },
  {
   "cell_type": "code",
   "execution_count": 11,
   "metadata": {},
   "outputs": [
    {
     "name": "stdout",
     "output_type": "stream",
     "text": [
      "total 24\r\n",
      "drwxr-xr-x  11 BigMac  staff   374 Jun  6 10:41 \u001b[34m.\u001b[m\u001b[m/\r\n",
      "drwxr-xr-x   4 BigMac  staff   136 Jun  6 10:22 \u001b[34m..\u001b[m\u001b[m/\r\n",
      "lrwxr-xr-x   1 BigMac  staff    56 Jun  6 10:22 \u001b[35m.Python\u001b[m\u001b[m@ -> /Library/Frameworks/Python.framework/Versions/3.8/Python\r\n",
      "drwxr-xr-x   3 BigMac  staff   102 Jun  6 10:33 \u001b[34m.ipynb_checkpoints\u001b[m\u001b[m/\r\n",
      "-rw-r--r--   1 BigMac  staff  1186 Jun  6 10:41 Testing Jupyter.ipynb\r\n",
      "drwxr-xr-x  39 BigMac  staff  1326 Jun  6 10:24 \u001b[34mbin\u001b[m\u001b[m/\r\n",
      "drwxr-xr-x   3 BigMac  staff   102 Jun  6 10:24 \u001b[34metc\u001b[m\u001b[m/\r\n",
      "drwxr-xr-x   3 BigMac  staff   102 Jun  6 10:22 \u001b[34minclude\u001b[m\u001b[m/\r\n",
      "drwxr-xr-x   3 BigMac  staff   102 Jun  6 10:22 \u001b[34mlib\u001b[m\u001b[m/\r\n",
      "-rw-r--r--   1 BigMac  staff    61 Jun  6 10:23 pip-selfcheck.json\r\n",
      "drwxr-xr-x   4 BigMac  staff   136 Jun  6 10:23 \u001b[34mshare\u001b[m\u001b[m/\r\n"
     ]
    }
   ],
   "source": [
    "%ls -la"
   ]
  },
  {
   "cell_type": "code",
   "execution_count": 9,
   "metadata": {},
   "outputs": [
    {
     "data": {
      "text/plain": [
       "'/Users/BigMac/Dev/jupyter'"
      ]
     },
     "execution_count": 9,
     "metadata": {},
     "output_type": "execute_result"
    }
   ],
   "source": [
    "%matplotlib inline"
   ]
  },
  {
   "cell_type": "code",
   "execution_count": 7,
   "metadata": {},
   "outputs": [
    {
     "name": "stdout",
     "output_type": "stream",
     "text": [
      "Package           Version\r\n",
      "----------------- ----------\r\n",
      "appnope           0.1.0\r\n",
      "attrs             19.3.0\r\n",
      "backcall          0.1.0\r\n",
      "bleach            3.1.5\r\n",
      "certifi           2020.4.5.1\r\n",
      "chardet           3.0.4\r\n",
      "decorator         4.4.2\r\n",
      "defusedxml        0.6.0\r\n",
      "entrypoints       0.3\r\n",
      "idna              2.9\r\n",
      "ipykernel         5.3.0\r\n",
      "ipython           7.15.0\r\n",
      "ipython-genutils  0.2.0\r\n",
      "jedi              0.17.0\r\n",
      "Jinja2            2.11.2\r\n",
      "json5             0.9.5\r\n",
      "jsonschema        3.2.0\r\n",
      "jupyter-client    6.1.3\r\n",
      "jupyter-core      4.6.3\r\n",
      "jupyterlab        2.1.4\r\n",
      "jupyterlab-server 1.1.5\r\n",
      "MarkupSafe        1.1.1\r\n",
      "mistune           0.8.4\r\n",
      "nbconvert         5.6.1\r\n",
      "nbformat          5.0.6\r\n",
      "notebook          6.0.3\r\n",
      "packaging         20.4\r\n",
      "pandocfilters     1.4.2\r\n",
      "parso             0.7.0\r\n",
      "pexpect           4.8.0\r\n",
      "pickleshare       0.7.5\r\n",
      "pip               20.1.1\r\n",
      "prometheus-client 0.8.0\r\n",
      "prompt-toolkit    3.0.5\r\n",
      "ptyprocess        0.6.0\r\n",
      "Pygments          2.6.1\r\n",
      "pyparsing         2.4.7\r\n",
      "pyrsistent        0.16.0\r\n",
      "python-dateutil   2.8.1\r\n",
      "pyzmq             19.0.1\r\n",
      "requests          2.23.0\r\n",
      "Send2Trash        1.5.0\r\n",
      "setuptools        47.1.1\r\n",
      "six               1.15.0\r\n",
      "terminado         0.8.3\r\n",
      "testpath          0.4.4\r\n",
      "tornado           6.0.4\r\n",
      "traitlets         4.3.3\r\n",
      "urllib3           1.25.9\r\n",
      "wcwidth           0.2.3\r\n",
      "webencodings      0.5.1\r\n",
      "wheel             0.34.2\r\n"
     ]
    }
   ],
   "source": [
    "!pip list"
   ]
  },
  {
   "cell_type": "code",
   "execution_count": 1,
   "metadata": {},
   "outputs": [
    {
     "data": {
      "text/html": [
       "<div>\n",
       "<style scoped>\n",
       "    .dataframe tbody tr th:only-of-type {\n",
       "        vertical-align: middle;\n",
       "    }\n",
       "\n",
       "    .dataframe tbody tr th {\n",
       "        vertical-align: top;\n",
       "    }\n",
       "\n",
       "    .dataframe thead th {\n",
       "        text-align: right;\n",
       "    }\n",
       "</style>\n",
       "<table border=\"1\" class=\"dataframe\">\n",
       "  <thead>\n",
       "    <tr style=\"text-align: right;\">\n",
       "      <th></th>\n",
       "      <th>0</th>\n",
       "      <th>1</th>\n",
       "      <th>2</th>\n",
       "      <th>3</th>\n",
       "      <th>4</th>\n",
       "    </tr>\n",
       "  </thead>\n",
       "  <tbody>\n",
       "    <tr>\n",
       "      <th>0</th>\n",
       "      <td>0.680822</td>\n",
       "      <td>-1.652983</td>\n",
       "      <td>0.148524</td>\n",
       "      <td>0.614533</td>\n",
       "      <td>-0.430077</td>\n",
       "    </tr>\n",
       "    <tr>\n",
       "      <th>1</th>\n",
       "      <td>0.713515</td>\n",
       "      <td>1.251632</td>\n",
       "      <td>0.214013</td>\n",
       "      <td>-1.599144</td>\n",
       "      <td>-0.634884</td>\n",
       "    </tr>\n",
       "    <tr>\n",
       "      <th>2</th>\n",
       "      <td>-0.458916</td>\n",
       "      <td>0.411676</td>\n",
       "      <td>-0.408476</td>\n",
       "      <td>-0.272124</td>\n",
       "      <td>0.868135</td>\n",
       "    </tr>\n",
       "    <tr>\n",
       "      <th>3</th>\n",
       "      <td>0.380489</td>\n",
       "      <td>-0.467812</td>\n",
       "      <td>0.967273</td>\n",
       "      <td>0.314007</td>\n",
       "      <td>0.261067</td>\n",
       "    </tr>\n",
       "    <tr>\n",
       "      <th>4</th>\n",
       "      <td>1.299320</td>\n",
       "      <td>1.640501</td>\n",
       "      <td>-0.703557</td>\n",
       "      <td>-2.846005</td>\n",
       "      <td>-0.407377</td>\n",
       "    </tr>\n",
       "    <tr>\n",
       "      <th>5</th>\n",
       "      <td>0.763840</td>\n",
       "      <td>-0.344428</td>\n",
       "      <td>-0.365189</td>\n",
       "      <td>-0.974796</td>\n",
       "      <td>0.533452</td>\n",
       "    </tr>\n",
       "    <tr>\n",
       "      <th>6</th>\n",
       "      <td>0.346847</td>\n",
       "      <td>0.045693</td>\n",
       "      <td>-0.647396</td>\n",
       "      <td>-0.016502</td>\n",
       "      <td>-0.694530</td>\n",
       "    </tr>\n",
       "    <tr>\n",
       "      <th>7</th>\n",
       "      <td>-1.555312</td>\n",
       "      <td>-0.779826</td>\n",
       "      <td>0.375862</td>\n",
       "      <td>0.159435</td>\n",
       "      <td>1.385314</td>\n",
       "    </tr>\n",
       "    <tr>\n",
       "      <th>8</th>\n",
       "      <td>0.339925</td>\n",
       "      <td>-0.000532</td>\n",
       "      <td>-2.580491</td>\n",
       "      <td>-0.663880</td>\n",
       "      <td>-0.212321</td>\n",
       "    </tr>\n",
       "    <tr>\n",
       "      <th>9</th>\n",
       "      <td>0.239554</td>\n",
       "      <td>-0.660150</td>\n",
       "      <td>-0.602809</td>\n",
       "      <td>0.809096</td>\n",
       "      <td>-0.177465</td>\n",
       "    </tr>\n",
       "  </tbody>\n",
       "</table>\n",
       "</div>"
      ],
      "text/plain": [
       "          0         1         2         3         4\n",
       "0  0.680822 -1.652983  0.148524  0.614533 -0.430077\n",
       "1  0.713515  1.251632  0.214013 -1.599144 -0.634884\n",
       "2 -0.458916  0.411676 -0.408476 -0.272124  0.868135\n",
       "3  0.380489 -0.467812  0.967273  0.314007  0.261067\n",
       "4  1.299320  1.640501 -0.703557 -2.846005 -0.407377\n",
       "5  0.763840 -0.344428 -0.365189 -0.974796  0.533452\n",
       "6  0.346847  0.045693 -0.647396 -0.016502 -0.694530\n",
       "7 -1.555312 -0.779826  0.375862  0.159435  1.385314\n",
       "8  0.339925 -0.000532 -2.580491 -0.663880 -0.212321\n",
       "9  0.239554 -0.660150 -0.602809  0.809096 -0.177465"
      ]
     },
     "execution_count": 1,
     "metadata": {},
     "output_type": "execute_result"
    }
   ],
   "source": [
    "import pandas as pd\n",
    "import numpy as np\n",
    "\n",
    "df = pd.DataFrame(np.random.randn(10,5))\n",
    "df"
   ]
  },
  {
   "cell_type": "code",
   "execution_count": 4,
   "metadata": {},
   "outputs": [
    {
     "data": {
      "image/png": "[encoded data removed]",
      "text/plain": [
       "<Figure size 432x288 with 1 Axes>"
      ]
     },
     "metadata": {
      "needs_background": "light"
     },
     "output_type": "display_data"
    }
   ],
   "source": [
    "import numpy as np\n",
    "import matplotlib.pyplot as plt\n",
    "\n",
    "N = 50\n",
    "x = np.random.rand(N)\n",
    "y = np.random.rand(N)\n",
    "colors = np.random.rand(N)\n",
    "area = np.pi * (15 * np.random.rand(N))**2\n",
    "\n",
    "plt.scatter(x, y, s=area, c=colors, alpha=0.5)\n",
    "plt.show()\n"
   ]
  },
  {
   "cell_type": "code",
   "execution_count": null,
   "metadata": {},
   "outputs": [],
   "source": []
  }
 ],
 "metadata": {
  "kernelspec": {
   "display_name": "Python 3",
   "language": "python",
   "name": "python3"
  },
  "language_info": {
   "codemirror_mode": {
    "name": "ipython",
    "version": 3
   },
   "file_extension": ".py",
   "mimetype": "text/x-python",
   "name": "python",
   "nbconvert_exporter": "python",
   "pygments_lexer": "ipython3",
   "version": "3.8.3"
  }
 },
 "nbformat": 4,
 "nbformat_minor": 4
}
